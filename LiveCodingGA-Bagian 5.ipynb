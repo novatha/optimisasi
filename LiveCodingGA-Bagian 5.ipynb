{
 "cells": [
  {
   "cell_type": "markdown",
   "metadata": {},
   "source": [
    "# Live Coding: GA Bagian 5\n",
    "\n"
   ]
  },
  {
   "cell_type": "markdown",
   "metadata": {},
   "source": [
    "## Contoh 2\n",
    "$\\max f(x_1,x_2,x_3) = 4x_1 -x_1^2 + 3x_2 -x_2^2 +5x_3 -3x_3^2$\n",
    "\n",
    "$3x_1 + 2x_2 +3x_3 \\le 10$\n",
    "\n",
    "$x_1 + 4x_2 + x_3 \\le20$\n",
    "\n",
    "$x_1 \\ge 0, x_2 \\ge 0, x_3 \\ge 0$"
   ]
  },
  {
   "cell_type": "code",
   "execution_count": null,
   "metadata": {},
   "outputs": [],
   "source": []
  },
  {
   "cell_type": "code",
   "execution_count": 18,
   "metadata": {},
   "outputs": [
    {
     "data": {
      "text/plain": [
       "findCandidates (generic function with 1 method)"
      ]
     },
     "execution_count": 18,
     "metadata": {},
     "output_type": "execute_result"
    }
   ],
   "source": [
    "using DataFrames\n",
    "# Inisialisasi\n",
    "ukuranPopulasi=100\n",
    "jumlah_generasi=100;\n",
    "populasi=DataFrame(ones(ukuranPopulasi,4));# kolom pertama sampai 3 untuk gen. Kolom keempat untuk fitness value\n",
    "\n",
    "function fitness(x)\n",
    "    # x adalah individu\n",
    "    hasil=4*x[1]-x[1]^2 + 3*x[2]-x[2]^2 +5*x[3]-3*x[3]^2\n",
    "    return hasil\n",
    "end\n",
    "\n",
    "function hitungFitness(populasi)\n",
    "    populasi[:,4]=[fitness(i) for i in eachrow(populasi)]\n",
    "    return populasi\n",
    "end\n",
    "\n",
    "\n",
    "function acakGen(populasi)\n",
    "    populasi=DataFrame(rand(range(0,stop=100,step=0.01),size(populasi)))\n",
    "    # rand(range(-100,stop=100,step=0.000001),size(first(populasi)))\n",
    "    hitungFitness(populasi)\n",
    "    return populasi\n",
    "end\n",
    "function mutasi(populasi,mutation_rate=0.1)\n",
    "        jumlahMutasi=round(size(populasi)[1]*mutation_rate)\n",
    "        #print(\"jumlah mutasi \",jumlahMutasi,\" \")\n",
    "        himpunan=range(-1,stop=1,step=0.001)\n",
    "        for i in range(1,stop=jumlahMutasi)\n",
    "           push!(populasi,rand(range(0,stop=100,step=0.01),size(first(populasi))))            \n",
    "        end\n",
    "        populasi=hitungFitness(populasi)\n",
    "    return populasi\n",
    "end "
   ]
  },
  {
   "cell_type": "code",
   "execution_count": 19,
   "metadata": {},
   "outputs": [],
   "source": [
    "populasi=acakGen(populasi);\n",
    "# Loop GA\n",
    "populasi=hitungFitness(populasi)\n",
    "terbaik=DataFrame(first(populasi))\n",
    "for i in range(1,stop=jumlah_generasi,step=1)\n",
    "    #print(\"\\nGenerasi ke \")\n",
    "    #print(i)\n",
    "    #print(\" \")\n",
    "    \n",
    "    # 1. Evaluasi Individu\n",
    "    # print(\"\\n\\n Hitung Fitness\\n\")\n",
    "    populasi=hitungFitness(populasi)\n",
    "    # print(\"\\n\\nUrutkan\\n\")\n",
    "    # 2. Mutasi\n",
    "    mutasi(populasi,0.75)\n",
    "    # 3. Cross over\n",
    "    # Selection\n",
    "    populasi=hitungFitness(populasi)\n",
    "    sort!(populasi,4,rev=true) # column 4 is where fitness values are stored.\n",
    "    populasi=first(populasi,ukuranPopulasi)\n",
    "    t=first(populasi)# untuk minimalisasi gunakan first\n",
    "    push!(terbaik,t)\n",
    "end\n",
    "\n",
    "using Plots\n",
    "\n"
   ]
  },
  {
   "cell_type": "code",
   "execution_count": 20,
   "metadata": {},
   "outputs": [
    {
     "data": {
      "image/svg+xml": [
       "<?xml version=\"1.0\" encoding=\"utf-8\"?>\n",
       "<svg xmlns=\"http://www.w3.org/2000/svg\" xmlns:xlink=\"http://www.w3.org/1999/xlink\" width=\"600\" height=\"400\" viewBox=\"0 0 2400 1600\">\n",
       "<defs>\n",
       "  <clipPath id=\"clip6700\">\n",
       "    <rect x=\"0\" y=\"0\" width=\"2400\" height=\"1600\"/>\n",
       "  </clipPath>\n",
       "</defs>\n",
       "<path clip-path=\"url(#clip6700)\" d=\"\n",
       "M0 1600 L2400 1600 L2400 0 L0 0  Z\n",
       "  \" fill=\"#ffffff\" fill-rule=\"evenodd\" fill-opacity=\"1\"/>\n",
       "<defs>\n",
       "  <clipPath id=\"clip6701\">\n",
       "    <rect x=\"480\" y=\"0\" width=\"1681\" height=\"1600\"/>\n",
       "  </clipPath>\n",
       "</defs>\n",
       "<path clip-path=\"url(#clip6700)\" d=\"\n",
       "M316.06 1487.47 L2352.76 1487.47 L2352.76 47.2441 L316.06 47.2441  Z\n",
       "  \" fill=\"#ffffff\" fill-rule=\"evenodd\" fill-opacity=\"1\"/>\n",
       "<defs>\n",
       "  <clipPath id=\"clip6702\">\n",
       "    <rect x=\"316\" y=\"47\" width=\"2038\" height=\"1441\"/>\n",
       "  </clipPath>\n",
       "</defs>\n",
       "<polyline clip-path=\"url(#clip6702)\" style=\"stroke:#000000; stroke-width:1.6; stroke-opacity:0.1; fill:none\" points=\"\n",
       "  354.489,1487.47 354.489,47.2441 \n",
       "  \"/>\n",
       "<polyline clip-path=\"url(#clip6702)\" style=\"stroke:#000000; stroke-width:1.6; stroke-opacity:0.1; fill:none\" points=\"\n",
       "  834.841,1487.47 834.841,47.2441 \n",
       "  \"/>\n",
       "<polyline clip-path=\"url(#clip6702)\" style=\"stroke:#000000; stroke-width:1.6; stroke-opacity:0.1; fill:none\" points=\"\n",
       "  1315.19,1487.47 1315.19,47.2441 \n",
       "  \"/>\n",
       "<polyline clip-path=\"url(#clip6702)\" style=\"stroke:#000000; stroke-width:1.6; stroke-opacity:0.1; fill:none\" points=\"\n",
       "  1795.55,1487.47 1795.55,47.2441 \n",
       "  \"/>\n",
       "<polyline clip-path=\"url(#clip6702)\" style=\"stroke:#000000; stroke-width:1.6; stroke-opacity:0.1; fill:none\" points=\"\n",
       "  2275.9,1487.47 2275.9,47.2441 \n",
       "  \"/>\n",
       "<polyline clip-path=\"url(#clip6702)\" style=\"stroke:#000000; stroke-width:1.6; stroke-opacity:0.1; fill:none\" points=\"\n",
       "  316.06,1232.09 2352.76,1232.09 \n",
       "  \"/>\n",
       "<polyline clip-path=\"url(#clip6702)\" style=\"stroke:#000000; stroke-width:1.6; stroke-opacity:0.1; fill:none\" points=\"\n",
       "  316.06,850.755 2352.76,850.755 \n",
       "  \"/>\n",
       "<polyline clip-path=\"url(#clip6702)\" style=\"stroke:#000000; stroke-width:1.6; stroke-opacity:0.1; fill:none\" points=\"\n",
       "  316.06,469.417 2352.76,469.417 \n",
       "  \"/>\n",
       "<polyline clip-path=\"url(#clip6702)\" style=\"stroke:#000000; stroke-width:1.6; stroke-opacity:0.1; fill:none\" points=\"\n",
       "  316.06,88.0795 2352.76,88.0795 \n",
       "  \"/>\n",
       "<polyline clip-path=\"url(#clip6700)\" style=\"stroke:#000000; stroke-width:3.2; stroke-opacity:1; fill:none\" points=\"\n",
       "  316.06,1487.47 2352.76,1487.47 \n",
       "  \"/>\n",
       "<polyline clip-path=\"url(#clip6700)\" style=\"stroke:#000000; stroke-width:3.2; stroke-opacity:1; fill:none\" points=\"\n",
       "  316.06,1487.47 316.06,47.2441 \n",
       "  \"/>\n",
       "<polyline clip-path=\"url(#clip6700)\" style=\"stroke:#000000; stroke-width:3.2; stroke-opacity:1; fill:none\" points=\"\n",
       "  354.489,1487.47 354.489,1465.87 \n",
       "  \"/>\n",
       "<polyline clip-path=\"url(#clip6700)\" style=\"stroke:#000000; stroke-width:3.2; stroke-opacity:1; fill:none\" points=\"\n",
       "  834.841,1487.47 834.841,1465.87 \n",
       "  \"/>\n",
       "<polyline clip-path=\"url(#clip6700)\" style=\"stroke:#000000; stroke-width:3.2; stroke-opacity:1; fill:none\" points=\"\n",
       "  1315.19,1487.47 1315.19,1465.87 \n",
       "  \"/>\n",
       "<polyline clip-path=\"url(#clip6700)\" style=\"stroke:#000000; stroke-width:3.2; stroke-opacity:1; fill:none\" points=\"\n",
       "  1795.55,1487.47 1795.55,1465.87 \n",
       "  \"/>\n",
       "<polyline clip-path=\"url(#clip6700)\" style=\"stroke:#000000; stroke-width:3.2; stroke-opacity:1; fill:none\" points=\"\n",
       "  2275.9,1487.47 2275.9,1465.87 \n",
       "  \"/>\n",
       "<polyline clip-path=\"url(#clip6700)\" style=\"stroke:#000000; stroke-width:3.2; stroke-opacity:1; fill:none\" points=\"\n",
       "  316.06,1232.09 346.611,1232.09 \n",
       "  \"/>\n",
       "<polyline clip-path=\"url(#clip6700)\" style=\"stroke:#000000; stroke-width:3.2; stroke-opacity:1; fill:none\" points=\"\n",
       "  316.06,850.755 346.611,850.755 \n",
       "  \"/>\n",
       "<polyline clip-path=\"url(#clip6700)\" style=\"stroke:#000000; stroke-width:3.2; stroke-opacity:1; fill:none\" points=\"\n",
       "  316.06,469.417 346.611,469.417 \n",
       "  \"/>\n",
       "<polyline clip-path=\"url(#clip6700)\" style=\"stroke:#000000; stroke-width:3.2; stroke-opacity:1; fill:none\" points=\"\n",
       "  316.06,88.0795 346.611,88.0795 \n",
       "  \"/>\n",
       "<g clip-path=\"url(#clip6700)\">\n",
       "<text style=\"fill:#000000; fill-opacity:1; font-family:Arial,Helvetica Neue,Helvetica,sans-serif; font-size:48px; text-anchor:middle;\" transform=\"rotate(0, 354.489, 1541.47)\" x=\"354.489\" y=\"1541.47\">0</text>\n",
       "</g>\n",
       "<g clip-path=\"url(#clip6700)\">\n",
       "<text style=\"fill:#000000; fill-opacity:1; font-family:Arial,Helvetica Neue,Helvetica,sans-serif; font-size:48px; text-anchor:middle;\" transform=\"rotate(0, 834.841, 1541.47)\" x=\"834.841\" y=\"1541.47\">25</text>\n",
       "</g>\n",
       "<g clip-path=\"url(#clip6700)\">\n",
       "<text style=\"fill:#000000; fill-opacity:1; font-family:Arial,Helvetica Neue,Helvetica,sans-serif; font-size:48px; text-anchor:middle;\" transform=\"rotate(0, 1315.19, 1541.47)\" x=\"1315.19\" y=\"1541.47\">50</text>\n",
       "</g>\n",
       "<g clip-path=\"url(#clip6700)\">\n",
       "<text style=\"fill:#000000; fill-opacity:1; font-family:Arial,Helvetica Neue,Helvetica,sans-serif; font-size:48px; text-anchor:middle;\" transform=\"rotate(0, 1795.55, 1541.47)\" x=\"1795.55\" y=\"1541.47\">75</text>\n",
       "</g>\n",
       "<g clip-path=\"url(#clip6700)\">\n",
       "<text style=\"fill:#000000; fill-opacity:1; font-family:Arial,Helvetica Neue,Helvetica,sans-serif; font-size:48px; text-anchor:middle;\" transform=\"rotate(0, 2275.9, 1541.47)\" x=\"2275.9\" y=\"1541.47\">100</text>\n",
       "</g>\n",
       "<g clip-path=\"url(#clip6700)\">\n",
       "<text style=\"fill:#000000; fill-opacity:1; font-family:Arial,Helvetica Neue,Helvetica,sans-serif; font-size:48px; text-anchor:start;\" transform=\"rotate(0, 93.6653, 1255.82)\" x=\"93.6653\" y=\"1255.82\">-</text>\n",
       "</g>\n",
       "<g clip-path=\"url(#clip6700)\">\n",
       "<text style=\"fill:#000000; fill-opacity:1; font-family:Arial,Helvetica Neue,Helvetica,sans-serif; font-size:48px; text-anchor:start;\" transform=\"rotate(0, 121.775, 1255.82)\" x=\"121.775\" y=\"1255.82\">1.5×10</text>\n",
       "</g>\n",
       "<g clip-path=\"url(#clip6700)\">\n",
       "<text style=\"fill:#000000; fill-opacity:1; font-family:Arial,Helvetica Neue,Helvetica,sans-serif; font-size:38px; text-anchor:start;\" transform=\"rotate(0, 270.316, 1228.41)\" x=\"270.316\" y=\"1228.41\">4</text>\n",
       "</g>\n",
       "<g clip-path=\"url(#clip6700)\">\n",
       "<text style=\"fill:#000000; fill-opacity:1; font-family:Arial,Helvetica Neue,Helvetica,sans-serif; font-size:48px; text-anchor:start;\" transform=\"rotate(0, 93.6653, 874.483)\" x=\"93.6653\" y=\"874.483\">-</text>\n",
       "</g>\n",
       "<g clip-path=\"url(#clip6700)\">\n",
       "<text style=\"fill:#000000; fill-opacity:1; font-family:Arial,Helvetica Neue,Helvetica,sans-serif; font-size:48px; text-anchor:start;\" transform=\"rotate(0, 121.775, 874.483)\" x=\"121.775\" y=\"874.483\">1.0×10</text>\n",
       "</g>\n",
       "<g clip-path=\"url(#clip6700)\">\n",
       "<text style=\"fill:#000000; fill-opacity:1; font-family:Arial,Helvetica Neue,Helvetica,sans-serif; font-size:38px; text-anchor:start;\" transform=\"rotate(0, 270.316, 847.072)\" x=\"270.316\" y=\"847.072\">4</text>\n",
       "</g>\n",
       "<g clip-path=\"url(#clip6700)\">\n",
       "<text style=\"fill:#000000; fill-opacity:1; font-family:Arial,Helvetica Neue,Helvetica,sans-serif; font-size:48px; text-anchor:start;\" transform=\"rotate(0, 93.6653, 493.145)\" x=\"93.6653\" y=\"493.145\">-</text>\n",
       "</g>\n",
       "<g clip-path=\"url(#clip6700)\">\n",
       "<text style=\"fill:#000000; fill-opacity:1; font-family:Arial,Helvetica Neue,Helvetica,sans-serif; font-size:48px; text-anchor:start;\" transform=\"rotate(0, 121.775, 493.145)\" x=\"121.775\" y=\"493.145\">5.0×10</text>\n",
       "</g>\n",
       "<g clip-path=\"url(#clip6700)\">\n",
       "<text style=\"fill:#000000; fill-opacity:1; font-family:Arial,Helvetica Neue,Helvetica,sans-serif; font-size:38px; text-anchor:start;\" transform=\"rotate(0, 270.316, 465.734)\" x=\"270.316\" y=\"465.734\">3</text>\n",
       "</g>\n",
       "<g clip-path=\"url(#clip6700)\">\n",
       "<text style=\"fill:#000000; fill-opacity:1; font-family:Arial,Helvetica Neue,Helvetica,sans-serif; font-size:48px; text-anchor:end;\" transform=\"rotate(0, 292.06, 105.579)\" x=\"292.06\" y=\"105.579\">0</text>\n",
       "</g>\n",
       "<polyline clip-path=\"url(#clip6702)\" style=\"stroke:#009af9; stroke-width:3.2; stroke-opacity:1; fill:none\" points=\"\n",
       "  373.703,1446.71 392.917,127.412 412.131,127.412 431.345,104.61 450.559,104.61 469.773,104.61 488.987,104.61 508.202,104.61 527.416,104.61 546.63,104.61 \n",
       "  565.844,104.61 585.058,104.61 604.272,104.61 623.486,104.61 642.7,104.61 661.914,104.61 681.128,104.61 700.343,104.61 719.557,104.61 738.771,104.61 \n",
       "  757.985,104.61 777.199,104.61 796.413,104.61 815.627,104.61 834.841,104.61 854.055,104.61 873.27,104.61 892.484,104.61 911.698,104.61 930.912,104.61 \n",
       "  950.126,97.3404 969.34,97.3404 988.554,97.3404 1007.77,97.3404 1026.98,97.3404 1046.2,97.3404 1065.41,97.3404 1084.62,97.3404 1103.84,97.3404 1123.05,97.3404 \n",
       "  1142.27,97.3404 1161.48,97.3404 1180.7,97.3404 1199.91,97.3404 1219.12,97.3404 1238.34,97.3404 1257.55,97.3404 1276.77,97.3404 1295.98,97.3404 1315.19,97.3404 \n",
       "  1334.41,97.3404 1353.62,97.3404 1372.84,95.2344 1392.05,95.2344 1411.26,95.2344 1430.48,95.2344 1449.69,95.2344 1468.91,95.2344 1488.12,95.2344 1507.34,91.3322 \n",
       "  1526.55,91.3322 1545.76,91.3322 1564.98,91.3322 1584.19,91.3322 1603.41,91.3322 1622.62,91.3322 1641.83,91.3322 1661.05,91.3322 1680.26,91.3322 1699.48,91.3322 \n",
       "  1718.69,91.3322 1737.9,91.3322 1757.12,91.3322 1776.33,91.3322 1795.55,91.3322 1814.76,91.3322 1833.97,91.3322 1853.19,91.3322 1872.4,91.3322 1891.62,91.3322 \n",
       "  1910.83,91.3322 1930.05,88.0053 1949.26,88.0053 1968.47,88.0053 1987.69,88.0053 2006.9,88.0053 2026.12,88.0053 2045.33,88.0053 2064.54,88.0053 2083.76,88.0053 \n",
       "  2102.97,88.0053 2122.19,88.0053 2141.4,88.0053 2160.61,88.0053 2179.83,88.0053 2199.04,88.0053 2218.26,88.0053 2237.47,88.0053 2256.69,88.0053 2275.9,88.0053 \n",
       "  2295.11,88.0053 \n",
       "  \"/>\n",
       "<path clip-path=\"url(#clip6700)\" d=\"\n",
       "M1989.93 251.724 L2280.76 251.724 L2280.76 130.764 L1989.93 130.764  Z\n",
       "  \" fill=\"#ffffff\" fill-rule=\"evenodd\" fill-opacity=\"1\"/>\n",
       "<polyline clip-path=\"url(#clip6700)\" style=\"stroke:#000000; stroke-width:3.2; stroke-opacity:1; fill:none\" points=\"\n",
       "  1989.93,251.724 2280.76,251.724 2280.76,130.764 1989.93,130.764 1989.93,251.724 \n",
       "  \"/>\n",
       "<polyline clip-path=\"url(#clip6700)\" style=\"stroke:#009af9; stroke-width:3.2; stroke-opacity:1; fill:none\" points=\"\n",
       "  2013.93,191.244 2157.93,191.244 \n",
       "  \"/>\n",
       "<g clip-path=\"url(#clip6700)\">\n",
       "<text style=\"fill:#000000; fill-opacity:1; font-family:Arial,Helvetica Neue,Helvetica,sans-serif; font-size:48px; text-anchor:start;\" transform=\"rotate(0, 2181.93, 208.744)\" x=\"2181.93\" y=\"208.744\">y1</text>\n",
       "</g>\n",
       "</svg>\n"
      ]
     },
     "execution_count": 20,
     "metadata": {},
     "output_type": "execute_result"
    }
   ],
   "source": [
    "plot(terbaik.x4)\n",
    "#acakGen(terbaik)\n"
   ]
  },
  {
   "cell_type": "markdown",
   "metadata": {},
   "source": [
    "Cara memeriksa kendala $3x_1 + 2x_2 + 3x_3 <=10$\n",
    "\n",
    "\n",
    "$x_1 + 4x_2 + x_3 \\le20$"
   ]
  },
  {
   "cell_type": "code",
   "execution_count": 21,
   "metadata": {},
   "outputs": [
    {
     "data": {
      "text/plain": [
       "findCandidates (generic function with 1 method)"
      ]
     },
     "execution_count": 21,
     "metadata": {},
     "output_type": "execute_result"
    }
   ],
   "source": [
    "dataacak=rand(range(0,stop=10,step=0.01),(100000,4))\n",
    "df=DataFrame(ones(1,4)) # tempat menyimpan data feasible\n",
    "sample=[ push!(df,i) for i in eachrow(dataacak) if (3*i[1]+2*i[2]+3*i[3]<=10) & (i[1] + 4*i[2] + i[3] <=20)];\n",
    "hitungFitness(df)\n",
    "sort!(df,4,rev=true)\n",
    "function findCandidates(n_candidate)\n",
    "        dataacak=rand(range(0,stop=10,step=0.01),(1000*n_candidate,4))\n",
    "        df=DataFrame(ones(1,4)) # tempat menyimpan data feasible\n",
    "        sample=[ push!(df,i) for i in eachrow(dataacak) if (3*i[1]+2*i[2]+3*i[3]<=10) \n",
    "                            & (i[1] + 4*i[2] + i[3] <=20) & (i[1] >=0 & (i[2]>=0 & (i[3]>=0)))];\n",
    "        deleterows!(df,1) # the first row are ones.\n",
    "        return first(df,n_candidate)\n",
    "end                "
   ]
  },
  {
   "cell_type": "code",
   "execution_count": 22,
   "metadata": {},
   "outputs": [
    {
     "data": {
      "text/html": [
       "<table class=\"data-frame\"><thead><tr><th></th><th>x1</th><th>x2</th><th>x3</th><th>x4</th></tr><tr><th></th><th>Float64</th><th>Float64</th><th>Float64</th><th>Float64</th></tr></thead><tbody><p>10 rows × 4 columns</p><tr><th>1</th><td>0.55</td><td>2.03</td><td>1.31</td><td>8.32</td></tr><tr><th>2</th><td>0.21</td><td>2.71</td><td>0.55</td><td>1.12</td></tr><tr><th>3</th><td>0.96</td><td>1.09</td><td>0.71</td><td>8.52</td></tr><tr><th>4</th><td>1.6</td><td>0.4</td><td>1.44</td><td>7.82</td></tr><tr><th>5</th><td>0.53</td><td>0.02</td><td>1.89</td><td>6.64</td></tr><tr><th>6</th><td>0.01</td><td>1.48</td><td>0.0</td><td>7.78</td></tr><tr><th>7</th><td>0.51</td><td>2.64</td><td>0.44</td><td>8.42</td></tr><tr><th>8</th><td>0.09</td><td>0.15</td><td>1.49</td><td>3.32</td></tr><tr><th>9</th><td>0.62</td><td>1.12</td><td>1.02</td><td>6.97</td></tr><tr><th>10</th><td>1.38</td><td>1.03</td><td>0.99</td><td>4.32</td></tr></tbody></table>"
      ],
      "text/latex": [
       "\\begin{tabular}{r|cccc}\n",
       "\t& x1 & x2 & x3 & x4\\\\\n",
       "\t\\hline\n",
       "\t& Float64 & Float64 & Float64 & Float64\\\\\n",
       "\t\\hline\n",
       "\t1 & 0.55 & 2.03 & 1.31 & 8.32 \\\\\n",
       "\t2 & 0.21 & 2.71 & 0.55 & 1.12 \\\\\n",
       "\t3 & 0.96 & 1.09 & 0.71 & 8.52 \\\\\n",
       "\t4 & 1.6 & 0.4 & 1.44 & 7.82 \\\\\n",
       "\t5 & 0.53 & 0.02 & 1.89 & 6.64 \\\\\n",
       "\t6 & 0.01 & 1.48 & 0.0 & 7.78 \\\\\n",
       "\t7 & 0.51 & 2.64 & 0.44 & 8.42 \\\\\n",
       "\t8 & 0.09 & 0.15 & 1.49 & 3.32 \\\\\n",
       "\t9 & 0.62 & 1.12 & 1.02 & 6.97 \\\\\n",
       "\t10 & 1.38 & 1.03 & 0.99 & 4.32 \\\\\n",
       "\\end{tabular}\n"
      ],
      "text/plain": [
       "10×4 DataFrame\n",
       "│ Row │ x1      │ x2      │ x3      │ x4      │\n",
       "│     │ \u001b[90mFloat64\u001b[39m │ \u001b[90mFloat64\u001b[39m │ \u001b[90mFloat64\u001b[39m │ \u001b[90mFloat64\u001b[39m │\n",
       "├─────┼─────────┼─────────┼─────────┼─────────┤\n",
       "│ 1   │ 0.55    │ 2.03    │ 1.31    │ 8.32    │\n",
       "│ 2   │ 0.21    │ 2.71    │ 0.55    │ 1.12    │\n",
       "│ 3   │ 0.96    │ 1.09    │ 0.71    │ 8.52    │\n",
       "│ 4   │ 1.6     │ 0.4     │ 1.44    │ 7.82    │\n",
       "│ 5   │ 0.53    │ 0.02    │ 1.89    │ 6.64    │\n",
       "│ 6   │ 0.01    │ 1.48    │ 0.0     │ 7.78    │\n",
       "│ 7   │ 0.51    │ 2.64    │ 0.44    │ 8.42    │\n",
       "│ 8   │ 0.09    │ 0.15    │ 1.49    │ 3.32    │\n",
       "│ 9   │ 0.62    │ 1.12    │ 1.02    │ 6.97    │\n",
       "│ 10  │ 1.38    │ 1.03    │ 0.99    │ 4.32    │"
      ]
     },
     "execution_count": 22,
     "metadata": {},
     "output_type": "execute_result"
    }
   ],
   "source": [
    "findCandidates(10)"
   ]
  },
  {
   "cell_type": "code",
   "execution_count": 23,
   "metadata": {},
   "outputs": [
    {
     "data": {
      "text/html": [
       "<table class=\"data-frame\"><thead><tr><th></th><th>x1</th><th>x2</th><th>x3</th><th>x4</th></tr><tr><th></th><th>Float64</th><th>Float64</th><th>Float64</th><th>Float64</th></tr></thead><tbody><p>100,000 rows × 4 columns</p><tr><th>1</th><td>1.73</td><td>1.28</td><td>0.75</td><td>8.1912</td></tr><tr><th>2</th><td>1.79</td><td>1.28</td><td>0.69</td><td>8.1792</td></tr><tr><th>3</th><td>1.72</td><td>1.32</td><td>0.71</td><td>8.1769</td></tr><tr><th>4</th><td>1.64</td><td>1.39</td><td>0.76</td><td>8.1755</td></tr><tr><th>5</th><td>1.74</td><td>1.33</td><td>0.69</td><td>8.1752</td></tr><tr><th>6</th><td>1.79</td><td>1.21</td><td>0.73</td><td>8.1731</td></tr><tr><th>7</th><td>1.7</td><td>1.32</td><td>0.72</td><td>8.1724</td></tr><tr><th>8</th><td>1.67</td><td>1.31</td><td>0.76</td><td>8.1722</td></tr><tr><th>9</th><td>1.67</td><td>1.27</td><td>0.8</td><td>8.1682</td></tr><tr><th>10</th><td>1.69</td><td>1.24</td><td>0.81</td><td>8.168</td></tr><tr><th>11</th><td>1.69</td><td>1.3</td><td>0.73</td><td>8.1652</td></tr><tr><th>12</th><td>1.64</td><td>1.38</td><td>0.74</td><td>8.1632</td></tr><tr><th>13</th><td>1.71</td><td>1.42</td><td>0.67</td><td>8.1628</td></tr><tr><th>14</th><td>1.79</td><td>1.16</td><td>0.77</td><td>8.1616</td></tr><tr><th>15</th><td>1.6</td><td>1.41</td><td>0.79</td><td>8.1596</td></tr><tr><th>16</th><td>1.79</td><td>1.33</td><td>0.65</td><td>8.1595</td></tr><tr><th>17</th><td>1.64</td><td>1.29</td><td>0.82</td><td>8.1591</td></tr><tr><th>18</th><td>1.72</td><td>1.41</td><td>0.66</td><td>8.1567</td></tr><tr><th>19</th><td>1.6</td><td>1.45</td><td>0.76</td><td>8.1547</td></tr><tr><th>20</th><td>1.66</td><td>1.3</td><td>0.74</td><td>8.1516</td></tr><tr><th>21</th><td>1.64</td><td>1.27</td><td>0.81</td><td>8.1492</td></tr><tr><th>22</th><td>1.71</td><td>1.4</td><td>0.66</td><td>8.1491</td></tr><tr><th>23</th><td>1.79</td><td>1.17</td><td>0.73</td><td>8.1483</td></tr><tr><th>24</th><td>1.63</td><td>1.3</td><td>0.78</td><td>8.1479</td></tr><tr><th>25</th><td>1.78</td><td>1.34</td><td>0.64</td><td>8.1472</td></tr><tr><th>26</th><td>1.78</td><td>1.38</td><td>0.63</td><td>8.1465</td></tr><tr><th>27</th><td>1.86</td><td>1.22</td><td>0.66</td><td>8.1452</td></tr><tr><th>28</th><td>1.6</td><td>1.39</td><td>0.76</td><td>8.1451</td></tr><tr><th>29</th><td>1.73</td><td>1.21</td><td>0.73</td><td>8.1443</td></tr><tr><th>30</th><td>1.7</td><td>1.33</td><td>0.68</td><td>8.1439</td></tr><tr><th>&vellip;</th><td>&vellip;</td><td>&vellip;</td><td>&vellip;</td><td>&vellip;</td></tr></tbody></table>"
      ],
      "text/latex": [
       "\\begin{tabular}{r|cccc}\n",
       "\t& x1 & x2 & x3 & x4\\\\\n",
       "\t\\hline\n",
       "\t& Float64 & Float64 & Float64 & Float64\\\\\n",
       "\t\\hline\n",
       "\t1 & 1.73 & 1.28 & 0.75 & 8.1912 \\\\\n",
       "\t2 & 1.79 & 1.28 & 0.69 & 8.1792 \\\\\n",
       "\t3 & 1.72 & 1.32 & 0.71 & 8.1769 \\\\\n",
       "\t4 & 1.64 & 1.39 & 0.76 & 8.1755 \\\\\n",
       "\t5 & 1.74 & 1.33 & 0.69 & 8.1752 \\\\\n",
       "\t6 & 1.79 & 1.21 & 0.73 & 8.1731 \\\\\n",
       "\t7 & 1.7 & 1.32 & 0.72 & 8.1724 \\\\\n",
       "\t8 & 1.67 & 1.31 & 0.76 & 8.1722 \\\\\n",
       "\t9 & 1.67 & 1.27 & 0.8 & 8.1682 \\\\\n",
       "\t10 & 1.69 & 1.24 & 0.81 & 8.168 \\\\\n",
       "\t11 & 1.69 & 1.3 & 0.73 & 8.1652 \\\\\n",
       "\t12 & 1.64 & 1.38 & 0.74 & 8.1632 \\\\\n",
       "\t13 & 1.71 & 1.42 & 0.67 & 8.1628 \\\\\n",
       "\t14 & 1.79 & 1.16 & 0.77 & 8.1616 \\\\\n",
       "\t15 & 1.6 & 1.41 & 0.79 & 8.1596 \\\\\n",
       "\t16 & 1.79 & 1.33 & 0.65 & 8.1595 \\\\\n",
       "\t17 & 1.64 & 1.29 & 0.82 & 8.1591 \\\\\n",
       "\t18 & 1.72 & 1.41 & 0.66 & 8.1567 \\\\\n",
       "\t19 & 1.6 & 1.45 & 0.76 & 8.1547 \\\\\n",
       "\t20 & 1.66 & 1.3 & 0.74 & 8.1516 \\\\\n",
       "\t21 & 1.64 & 1.27 & 0.81 & 8.1492 \\\\\n",
       "\t22 & 1.71 & 1.4 & 0.66 & 8.1491 \\\\\n",
       "\t23 & 1.79 & 1.17 & 0.73 & 8.1483 \\\\\n",
       "\t24 & 1.63 & 1.3 & 0.78 & 8.1479 \\\\\n",
       "\t25 & 1.78 & 1.34 & 0.64 & 8.1472 \\\\\n",
       "\t26 & 1.78 & 1.38 & 0.63 & 8.1465 \\\\\n",
       "\t27 & 1.86 & 1.22 & 0.66 & 8.1452 \\\\\n",
       "\t28 & 1.6 & 1.39 & 0.76 & 8.1451 \\\\\n",
       "\t29 & 1.73 & 1.21 & 0.73 & 8.1443 \\\\\n",
       "\t30 & 1.7 & 1.33 & 0.68 & 8.1439 \\\\\n",
       "\t$\\dots$ & $\\dots$ & $\\dots$ & $\\dots$ & $\\dots$ \\\\\n",
       "\\end{tabular}\n"
      ],
      "text/plain": [
       "100000×4 DataFrame\n",
       "│ Row    │ x1      │ x2      │ x3      │ x4       │\n",
       "│        │ \u001b[90mFloat64\u001b[39m │ \u001b[90mFloat64\u001b[39m │ \u001b[90mFloat64\u001b[39m │ \u001b[90mFloat64\u001b[39m  │\n",
       "├────────┼─────────┼─────────┼─────────┼──────────┤\n",
       "│ 1      │ 1.73    │ 1.28    │ 0.75    │ 8.1912   │\n",
       "│ 2      │ 1.79    │ 1.28    │ 0.69    │ 8.1792   │\n",
       "│ 3      │ 1.72    │ 1.32    │ 0.71    │ 8.1769   │\n",
       "│ 4      │ 1.64    │ 1.39    │ 0.76    │ 8.1755   │\n",
       "│ 5      │ 1.74    │ 1.33    │ 0.69    │ 8.1752   │\n",
       "│ 6      │ 1.79    │ 1.21    │ 0.73    │ 8.1731   │\n",
       "│ 7      │ 1.7     │ 1.32    │ 0.72    │ 8.1724   │\n",
       "│ 8      │ 1.67    │ 1.31    │ 0.76    │ 8.1722   │\n",
       "│ 9      │ 1.67    │ 1.27    │ 0.8     │ 8.1682   │\n",
       "│ 10     │ 1.69    │ 1.24    │ 0.81    │ 8.168    │\n",
       "⋮\n",
       "│ 99990  │ 0.01    │ 0.19    │ 3.16    │ -13.583  │\n",
       "│ 99991  │ 0.16    │ 0.0     │ 3.17    │ -13.6823 │\n",
       "│ 99992  │ 0.04    │ 0.07    │ 3.17    │ -13.9332 │\n",
       "│ 99993  │ 0.06    │ 0.07    │ 3.18    │ -13.9957 │\n",
       "│ 99994  │ 0.08    │ 0.03    │ 3.19    │ -14.1756 │\n",
       "│ 99995  │ 0.03    │ 0.12    │ 3.2     │ -14.2553 │\n",
       "│ 99996  │ 0.04    │ 0.04    │ 3.2     │ -14.4432 │\n",
       "│ 99997  │ 0.03    │ 0.01    │ 3.2     │ -14.571  │\n",
       "│ 99998  │ 0.05    │ 0.03    │ 3.22    │ -14.7186 │\n",
       "│ 99999  │ 0.02    │ 0.1     │ 3.24    │ -14.9232 │\n",
       "│ 100000 │ 0.04    │ 0.0     │ 3.28    │ -15.7168 │"
      ]
     },
     "execution_count": 23,
     "metadata": {},
     "output_type": "execute_result"
    }
   ],
   "source": [
    "sort!(hitungFitness(findCandidates(100000)),4,rev=true)"
   ]
  },
  {
   "cell_type": "code",
   "execution_count": null,
   "metadata": {},
   "outputs": [],
   "source": []
  }
 ],
 "metadata": {
  "@webio": {
   "lastCommId": null,
   "lastKernelId": null
  },
  "kernelspec": {
   "display_name": "Julia 1.1.1",
   "language": "julia",
   "name": "julia-1.1"
  },
  "language_info": {
   "file_extension": ".jl",
   "mimetype": "application/julia",
   "name": "julia",
   "version": "1.1.1"
  }
 },
 "nbformat": 4,
 "nbformat_minor": 4
}
