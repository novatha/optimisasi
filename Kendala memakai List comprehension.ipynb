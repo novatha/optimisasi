{
 "cells": [
  {
   "cell_type": "markdown",
   "metadata": {
    "slideshow": {
     "slide_type": "slide"
    }
   },
   "source": [
    "## Implementing Constraints using List Comprehension\n",
    "$\\max f(x_1,x_2,x_3) = 4x_1 -x_1^2 + 3x_2 -x_2^2 +5x_3 -3x_3^2$\n",
    "\n",
    "$3x_1 + 2x_2 +3x_3 \\le 10$\n",
    "\n",
    "$x_1 + 4x_2 + x_3 \\le20$\n",
    "\n",
    "$x_1 \\ge 0, x_2 \\ge 0, x_3 \\ge 0$"
   ]
  },
  {
   "cell_type": "markdown",
   "metadata": {
    "slideshow": {
     "slide_type": "slide"
    }
   },
   "source": [
    "## Membuat populasi awal\n",
    "\n",
    "Kita menggunakan fungsi random dan range untuk membuat populasi awal.\n",
    "fungsi range digunakan untuk membuat ruang semesta yang merupakan himpunan nilai-nilai gen yang mungkin."
   ]
  },
  {
   "cell_type": "code",
   "execution_count": null,
   "metadata": {
    "slideshow": {
     "slide_type": "fragment"
    }
   },
   "outputs": [],
   "source": [
    "Space=range(-100,stop=100,step=1e-3)"
   ]
  },
  {
   "cell_type": "markdown",
   "metadata": {
    "slideshow": {
     "slide_type": "slide"
    }
   },
   "source": [
    "fungsi rand digunakan untuk membuat n buah individu yang masing-masing memiliki tiga nilai. Hasilnya adalah sebuah array yang memiliki ukuran n x 3. Tidak semua individu memenuhi syarat."
   ]
  },
  {
   "cell_type": "code",
   "execution_count": null,
   "metadata": {
    "slideshow": {
     "slide_type": "fragment"
    }
   },
   "outputs": [],
   "source": [
    "populasi=rand(Space,(100,3))"
   ]
  },
  {
   "cell_type": "markdown",
   "metadata": {
    "slideshow": {
     "slide_type": "slide"
    }
   },
   "source": [
    "## memilih populasi 1\n",
    "\n",
    "Memilih individu yang memenuhi $ x_1 \\ge 0 $\n",
    "\n",
    "Kita dapat memilih individu yang memenuhi syarat gen pertama non-negatif dengan cara berikut:"
   ]
  },
  {
   "cell_type": "code",
   "execution_count": null,
   "metadata": {
    "slideshow": {
     "slide_type": "fragment"
    }
   },
   "outputs": [],
   "source": [
    "[i for i in eachrow(populasi) if i[1]>=0]"
   ]
  },
  {
   "cell_type": "markdown",
   "metadata": {
    "slideshow": {
     "slide_type": "slide"
    }
   },
   "source": [
    "## memilih populasi 2\n",
    "Memilih individu yang memenuhi $ x_1 \\ge 0 $ dan $x_2 \\ge 0$.\n",
    "Kemudian kita bisa menggunakan dua syarat."
   ]
  },
  {
   "cell_type": "code",
   "execution_count": null,
   "metadata": {
    "slideshow": {
     "slide_type": "fragment"
    }
   },
   "outputs": [],
   "source": [
    "[i for i in eachrow(populasi) if (i[1]>=0) & (i[2]>=0)]"
   ]
  },
  {
   "cell_type": "markdown",
   "metadata": {
    "slideshow": {
     "slide_type": "slide"
    }
   },
   "source": [
    "## memilih populasi 3\n",
    "Memilih individu yang memenuhi $ x_1 \\ge 0 $ dan $x_2 \\ge 0$ dan $x_3 \\ge 0$.\n",
    "Kita juga bisa menggunakan tiga syarat."
   ]
  },
  {
   "cell_type": "code",
   "execution_count": null,
   "metadata": {
    "slideshow": {
     "slide_type": "fragment"
    }
   },
   "outputs": [],
   "source": [
    "[i for i in eachrow(populasi) if (i[1]>=0) & (i[2]>=0) & (i[3]>=0)]"
   ]
  },
  {
   "cell_type": "markdown",
   "metadata": {
    "slideshow": {
     "slide_type": "slide"
    }
   },
   "source": [
    "### Kombinasi linear 1\n",
    "Kita juga bisa menambahkan syarat berikut\n",
    "\n",
    "$3x_1 + 2x_2 +3x_3 \\le 10$\n",
    "\n",
    "Kita dapat menyimpulkan bahwa\n",
    "1. $\\text{Jika, } x_1=0 \\text{ dan } x_2=0 \\text{ maka } x_3 \\le \\frac{10}{3}$\n",
    "2. $\\text{Jika, } x_1=0 \\text{ dan } x_3 = 0 \\text{ maka } x_2 \\le \\frac{10}{2}=5 $\n",
    "2. $\\text{Jika, } x_2=0 \\text{ dan } x_3 = 0 \\text{ maka } x_1 \\le \\frac{10}{3} $\n",
    "\n"
   ]
  },
  {
   "cell_type": "markdown",
   "metadata": {
    "slideshow": {
     "slide_type": "slide"
    }
   },
   "source": [
    "### Kombinasi linear 2\n",
    "Dari syarat\n",
    "\n",
    "$x_1 + 4x_2 + x_3 \\le20$\n",
    "\n",
    "Kita dapat menyimpulkan bahwa\n",
    "1. $\\text{Jika, } x_1=0 \\text{ dan } x_2=0 \\text{ maka } x_3 \\le 20$\n",
    "2. $\\text{Jika, } x_1=0 \\text{ dan } x_3 = 0 \\text{ maka } x_2 \\le \\frac{20}{4}=5 $\n",
    "2. $\\text{Jika, } x_2=0 \\text{ dan } x_3 = 0 \\text{ maka } x_1 \\le 20 $\n",
    "\n"
   ]
  },
  {
   "cell_type": "markdown",
   "metadata": {
    "slideshow": {
     "slide_type": "slide"
    }
   },
   "source": [
    "Jadi nilai masing-masing peubah harus menaati syarat berikut ini\n",
    "1. $0 \\le x_1 \\le \\frac{10}{3}$\n",
    "2. $0 \\le x_2 \\le 5$\n",
    "3. $0 \\le x_2 \\le \\frac{10}{3}$\n",
    "\n",
    "Oleh karena itu, kita bisa mengubah himpunan semesta awal\n",
    "\n",
    "\n",
    "Space=range(0,stop=5,step=1e-3)"
   ]
  },
  {
   "cell_type": "code",
   "execution_count": null,
   "metadata": {
    "slideshow": {
     "slide_type": "slide"
    }
   },
   "outputs": [],
   "source": [
    "Space=range(0,stop=5,step=1e-3)\n",
    "populasi=rand(Space,(100,3))"
   ]
  },
  {
   "cell_type": "code",
   "execution_count": null,
   "metadata": {
    "slideshow": {
     "slide_type": "fragment"
    }
   },
   "outputs": [],
   "source": [
    "PopulasiBaik=[i for i in eachrow(populasi) if (i[1]>=0) & (i[2]>=0) \n",
    "            & (i[3]>=0) & (3*i[1] + 2*i[2] +3*i[2] <= 10) \n",
    "            & (i[1]+4*i[2]+i[3] <= 20)]"
   ]
  },
  {
   "cell_type": "markdown",
   "metadata": {
    "slideshow": {
     "slide_type": "slide"
    }
   },
   "source": [
    "## Menghitung nilai fungsi tujuan\n",
    "\n",
    "Setelah mendapatkan populasi yang memenuhi syarat, kita dapat menghitung fungsi tujuan.\n",
    "\n",
    "$\\max f(x_1,x_2,x_3) = 4x_1 -x_1^2 + 3x_2 -x_2^2 +5x_3 -3x_3^2$"
   ]
  },
  {
   "cell_type": "code",
   "execution_count": null,
   "metadata": {
    "slideshow": {
     "slide_type": "fragment"
    }
   },
   "outputs": [],
   "source": [
    "function f(x)\n",
    "    hasil=4*x[1]-x[1]^2 +3*x[2]-x[2]^2 +5*x[3] - 3*x[3]^2\n",
    "    return hasil\n",
    "end"
   ]
  },
  {
   "cell_type": "code",
   "execution_count": null,
   "metadata": {
    "slideshow": {
     "slide_type": "fragment"
    }
   },
   "outputs": [],
   "source": [
    "f([1,1,1])"
   ]
  },
  {
   "cell_type": "markdown",
   "metadata": {
    "slideshow": {
     "slide_type": "slide"
    }
   },
   "source": [
    "\n",
    "Kemudian, juga dengan list comprehension kita bisa menghitung nilai f setiap baris (individu)."
   ]
  },
  {
   "cell_type": "code",
   "execution_count": null,
   "metadata": {
    "slideshow": {
     "slide_type": "fragment"
    }
   },
   "outputs": [],
   "source": [
    "[ f(i[1]) for i in eachrow(PopulasiBaik) ]"
   ]
  },
  {
   "cell_type": "code",
   "execution_count": null,
   "metadata": {},
   "outputs": [],
   "source": []
  }
 ],
 "metadata": {
  "celltoolbar": "Slideshow",
  "kernelspec": {
   "display_name": "Julia 1.4.0",
   "language": "julia",
   "name": "julia-1.4"
  },
  "language_info": {
   "file_extension": ".jl",
   "mimetype": "application/julia",
   "name": "julia",
   "version": "1.4.0"
  }
 },
 "nbformat": 4,
 "nbformat_minor": 2
}
